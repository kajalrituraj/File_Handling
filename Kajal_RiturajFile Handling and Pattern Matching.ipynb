{
 "cells": [
  {
   "cell_type": "markdown",
   "id": "f8734a58",
   "metadata": {},
   "source": [
    "## String Handling\n",
    "## Pattern Matching with Regular Expressions\n",
    "Regular expression is very powerful way to match pattern and find text from a document. this can be used to validate data, web scraping and so much more\n",
    "\n",
    "Here is a regular expression cheat to understand various syntax and special sequences https://cheatography.com/mutanclan/cheat-sheets/python-regular-expression-regex/.\n",
    "Regex PlayGround - https://pythex.org/\n",
    "\n",
    "    1. findall\n",
    "    2. search\n",
    "    3. split\n",
    "    4. sub\n",
    "    5. finditer\n",
    "    6. meta character\n",
    "    7. special sequence\n",
    "    8. rawstring\n",
    "\n",
    "\n",
    "## Files IO\n",
    "\n",
    "we'll learn about Python file operations. More specifically, opening a file, reading from it, writing into it, closing it, and various file methods that you should be aware of.\n",
    "\n",
    "When we want to read from or write to a file, we need to open it first. When we are done, it needs to be closed so that the resources that are tied with the file are freed.\n",
    "\n",
    "Hence, in Python, a file operation takes place in the following order:\n",
    "\n",
    "1. Open a file\n",
    "2. Read or write (perform operation)\n",
    "3. Close the file\n",
    "\n",
    "#### File Modes\n",
    "    r\tOpens a file for reading. (default)\n",
    "    w\tOpens a file for writing. Creates a new file if it does not exist or truncates the file if it exists.\n",
    "    x\tOpens a file for exclusive creation. If the file already exists, the operation fails.\n",
    "    a\tOpens a file for appending at the end of the file. Creates a new file if it does not exist.\n",
    "    t\tOpens in text mode. (default)\n",
    "    b\tOpens in binary mode.\n",
    "    +\tOpens a file for updating (reading and writing)\n",
    "\n",
    "* Reading and Writing Files\n",
    "    ```python\n",
    "    f = open(\"test.txt\")\n",
    "    f = open(\"C:/Python38/README.txt\")\n",
    "    ```\n",
    "    \n",
    "    ```python\n",
    "    f = open(\"test.txt\")      # equivalent to 'r' or 'rt'\n",
    "    f = open(\"test.txt\",'w')  # write in text mode\n",
    "    f = open(\"img.bmp\",'r+b') # read and write in binary mode\n",
    "    ```\n",
    "* Closing a file\n",
    "    ```python\n",
    "    f = open(\"test.txt\", encoding = 'utf-8')\n",
    "    # perform file operations\n",
    "    f.close()\n",
    "    ```\n",
    "    \n",
    "    ```python\n",
    "    with open(\"test.txt\",'w',encoding = 'utf-8') as f:\n",
    "       f.write(\"my first file\\n\")\n",
    "       f.write(\"This file\\n\\n\")\n",
    "       f.write(\"contains three lines\\n\")\n",
    "    ```\n",
    "* Organizing Files with os module\n",
    "    1. Creating a file\n",
    "    2. Renaming a flie\n",
    "    3. Deleting a file\n",
    "\n",
    "    4. Creating a folder\n",
    "    5. Renaming a folder\n",
    "    6. Deleting a folder\n",
    "    7. Copy\n",
    "    8. Move"
   ]
  },
  {
   "cell_type": "code",
   "execution_count": 89,
   "id": "0e6b7949",
   "metadata": {},
   "outputs": [],
   "source": [
    "import re\n",
    "import os"
   ]
  },
  {
   "cell_type": "code",
   "execution_count": 72,
   "id": "d5fd8d67",
   "metadata": {},
   "outputs": [],
   "source": [
    "text = \"\"\"\n",
    "My name is naveen my email address is naveen.singh@outlook.in my contact number is 9540150666 and my post code is 110009\n",
    "I ate 5 mangos\n",
    "\"\"\""
   ]
  },
  {
   "cell_type": "code",
   "execution_count": 79,
   "id": "cde04b16",
   "metadata": {},
   "outputs": [
    {
     "data": {
      "text/plain": [
       "['naveen', 'naveen']"
      ]
     },
     "execution_count": 79,
     "metadata": {},
     "output_type": "execute_result"
    }
   ],
   "source": [
    "re.findall(r\"naveen\", text)"
   ]
  },
  {
   "cell_type": "code",
   "execution_count": 81,
   "id": "7574b5b2",
   "metadata": {},
   "outputs": [
    {
     "data": {
      "text/plain": [
       "False"
      ]
     },
     "execution_count": 81,
     "metadata": {},
     "output_type": "execute_result"
    }
   ],
   "source": [
    "bool(re.search(r\"naveen--\", text))"
   ]
  },
  {
   "cell_type": "code",
   "execution_count": 84,
   "id": "80c71781",
   "metadata": {},
   "outputs": [
    {
     "data": {
      "text/plain": [
       "['\\nMy name is ',\n",
       " ' my email address is ',\n",
       " '.singh@outlook.in my contact number is 9540150666 and my post code is 110009\\nI ate 5 mangos\\n']"
      ]
     },
     "execution_count": 84,
     "metadata": {},
     "output_type": "execute_result"
    }
   ],
   "source": [
    "re.split(r\"naveen\", text)"
   ]
  },
  {
   "cell_type": "code",
   "execution_count": 85,
   "id": "71be20d9",
   "metadata": {},
   "outputs": [
    {
     "data": {
      "text/plain": [
       "'\\nMy name is naveen my email address is naveen.singh@outlook.in my contact number is 9five401five0666 and my post code is 110009\\nI ate five mangos\\n'"
      ]
     },
     "execution_count": 85,
     "metadata": {},
     "output_type": "execute_result"
    }
   ],
   "source": [
    "re.sub(r\"5\", \"five\", text)"
   ]
  },
  {
   "cell_type": "code",
   "execution_count": 72,
   "id": "1ba3137f",
   "metadata": {},
   "outputs": [],
   "source": [
    "email_pattern = r\"[a-zA-Z0-9.-_]+@[a-zA-Z0-9.-_]+\\.[a-zA-Z0-9.-_]+\""
   ]
  },
  {
   "cell_type": "code",
   "execution_count": 73,
   "id": "96ccd3cf",
   "metadata": {},
   "outputs": [
    {
     "data": {
      "text/plain": [
       "True"
      ]
     },
     "execution_count": 73,
     "metadata": {},
     "output_type": "execute_result"
    }
   ],
   "source": [
    "bool(re.search(email_pattern, text))"
   ]
  },
  {
   "cell_type": "code",
   "execution_count": null,
   "id": "4d909170",
   "metadata": {},
   "outputs": [],
   "source": []
  },
  {
   "cell_type": "code",
   "execution_count": 90,
   "id": "db4bddef",
   "metadata": {},
   "outputs": [],
   "source": [
    "# File Management"
   ]
  },
  {
   "cell_type": "code",
   "execution_count": 92,
   "id": "70049574",
   "metadata": {},
   "outputs": [
    {
     "data": {
      "text/plain": [
       "['CLD_CONTINUED',\n",
       " 'CLD_DUMPED',\n",
       " 'CLD_EXITED',\n",
       " 'CLD_KILLED',\n",
       " 'CLD_STOPPED',\n",
       " 'CLD_TRAPPED',\n",
       " 'DirEntry',\n",
       " 'EX_CANTCREAT',\n",
       " 'EX_CONFIG',\n",
       " 'EX_DATAERR',\n",
       " 'EX_IOERR',\n",
       " 'EX_NOHOST',\n",
       " 'EX_NOINPUT',\n",
       " 'EX_NOPERM',\n",
       " 'EX_NOUSER',\n",
       " 'EX_OK',\n",
       " 'EX_OSERR',\n",
       " 'EX_OSFILE',\n",
       " 'EX_PROTOCOL',\n",
       " 'EX_SOFTWARE',\n",
       " 'EX_TEMPFAIL',\n",
       " 'EX_UNAVAILABLE',\n",
       " 'EX_USAGE',\n",
       " 'F_LOCK',\n",
       " 'F_OK',\n",
       " 'F_TEST',\n",
       " 'F_TLOCK',\n",
       " 'F_ULOCK',\n",
       " 'GenericAlias',\n",
       " 'Mapping',\n",
       " 'MutableMapping',\n",
       " 'NGROUPS_MAX',\n",
       " 'O_ACCMODE',\n",
       " 'O_APPEND',\n",
       " 'O_ASYNC',\n",
       " 'O_CLOEXEC',\n",
       " 'O_CREAT',\n",
       " 'O_DIRECTORY',\n",
       " 'O_DSYNC',\n",
       " 'O_EXCL',\n",
       " 'O_EXLOCK',\n",
       " 'O_NDELAY',\n",
       " 'O_NOCTTY',\n",
       " 'O_NOFOLLOW',\n",
       " 'O_NONBLOCK',\n",
       " 'O_RDONLY',\n",
       " 'O_RDWR',\n",
       " 'O_SHLOCK',\n",
       " 'O_SYNC',\n",
       " 'O_TRUNC',\n",
       " 'O_WRONLY',\n",
       " 'POSIX_SPAWN_CLOSE',\n",
       " 'POSIX_SPAWN_DUP2',\n",
       " 'POSIX_SPAWN_OPEN',\n",
       " 'PRIO_PGRP',\n",
       " 'PRIO_PROCESS',\n",
       " 'PRIO_USER',\n",
       " 'P_ALL',\n",
       " 'P_NOWAIT',\n",
       " 'P_NOWAITO',\n",
       " 'P_PGID',\n",
       " 'P_PID',\n",
       " 'P_WAIT',\n",
       " 'PathLike',\n",
       " 'RTLD_GLOBAL',\n",
       " 'RTLD_LAZY',\n",
       " 'RTLD_LOCAL',\n",
       " 'RTLD_NODELETE',\n",
       " 'RTLD_NOLOAD',\n",
       " 'RTLD_NOW',\n",
       " 'R_OK',\n",
       " 'SCHED_FIFO',\n",
       " 'SCHED_OTHER',\n",
       " 'SCHED_RR',\n",
       " 'SEEK_CUR',\n",
       " 'SEEK_DATA',\n",
       " 'SEEK_END',\n",
       " 'SEEK_HOLE',\n",
       " 'SEEK_SET',\n",
       " 'ST_NOSUID',\n",
       " 'ST_RDONLY',\n",
       " 'TMP_MAX',\n",
       " 'WCONTINUED',\n",
       " 'WCOREDUMP',\n",
       " 'WEXITED',\n",
       " 'WEXITSTATUS',\n",
       " 'WIFCONTINUED',\n",
       " 'WIFEXITED',\n",
       " 'WIFSIGNALED',\n",
       " 'WIFSTOPPED',\n",
       " 'WNOHANG',\n",
       " 'WNOWAIT',\n",
       " 'WSTOPPED',\n",
       " 'WSTOPSIG',\n",
       " 'WTERMSIG',\n",
       " 'WUNTRACED',\n",
       " 'W_OK',\n",
       " 'X_OK',\n",
       " '_Environ',\n",
       " '__all__',\n",
       " '__builtins__',\n",
       " '__cached__',\n",
       " '__doc__',\n",
       " '__file__',\n",
       " '__loader__',\n",
       " '__name__',\n",
       " '__package__',\n",
       " '__spec__',\n",
       " '_check_methods',\n",
       " '_execvpe',\n",
       " '_exists',\n",
       " '_exit',\n",
       " '_fspath',\n",
       " '_fwalk',\n",
       " '_get_exports_list',\n",
       " '_spawnvef',\n",
       " '_walk',\n",
       " '_wrap_close',\n",
       " 'abc',\n",
       " 'abort',\n",
       " 'access',\n",
       " 'altsep',\n",
       " 'chdir',\n",
       " 'chflags',\n",
       " 'chmod',\n",
       " 'chown',\n",
       " 'chroot',\n",
       " 'close',\n",
       " 'closerange',\n",
       " 'confstr',\n",
       " 'confstr_names',\n",
       " 'cpu_count',\n",
       " 'ctermid',\n",
       " 'curdir',\n",
       " 'defpath',\n",
       " 'device_encoding',\n",
       " 'devnull',\n",
       " 'dup',\n",
       " 'dup2',\n",
       " 'environ',\n",
       " 'environb',\n",
       " 'error',\n",
       " 'execl',\n",
       " 'execle',\n",
       " 'execlp',\n",
       " 'execlpe',\n",
       " 'execv',\n",
       " 'execve',\n",
       " 'execvp',\n",
       " 'execvpe',\n",
       " 'extsep',\n",
       " 'fchdir',\n",
       " 'fchmod',\n",
       " 'fchown',\n",
       " 'fdopen',\n",
       " 'fork',\n",
       " 'forkpty',\n",
       " 'fpathconf',\n",
       " 'fsdecode',\n",
       " 'fsencode',\n",
       " 'fspath',\n",
       " 'fstat',\n",
       " 'fstatvfs',\n",
       " 'fsync',\n",
       " 'ftruncate',\n",
       " 'fwalk',\n",
       " 'get_blocking',\n",
       " 'get_exec_path',\n",
       " 'get_inheritable',\n",
       " 'get_terminal_size',\n",
       " 'getcwd',\n",
       " 'getcwdb',\n",
       " 'getegid',\n",
       " 'getenv',\n",
       " 'getenvb',\n",
       " 'geteuid',\n",
       " 'getgid',\n",
       " 'getgrouplist',\n",
       " 'getgroups',\n",
       " 'getloadavg',\n",
       " 'getlogin',\n",
       " 'getpgid',\n",
       " 'getpgrp',\n",
       " 'getpid',\n",
       " 'getppid',\n",
       " 'getpriority',\n",
       " 'getsid',\n",
       " 'getuid',\n",
       " 'initgroups',\n",
       " 'isatty',\n",
       " 'kill',\n",
       " 'killpg',\n",
       " 'lchflags',\n",
       " 'lchmod',\n",
       " 'lchown',\n",
       " 'linesep',\n",
       " 'link',\n",
       " 'listdir',\n",
       " 'lockf',\n",
       " 'lseek',\n",
       " 'lstat',\n",
       " 'major',\n",
       " 'makedev',\n",
       " 'makedirs',\n",
       " 'minor',\n",
       " 'mkdir',\n",
       " 'mkfifo',\n",
       " 'mknod',\n",
       " 'name',\n",
       " 'nice',\n",
       " 'open',\n",
       " 'openpty',\n",
       " 'pardir',\n",
       " 'path',\n",
       " 'pathconf',\n",
       " 'pathconf_names',\n",
       " 'pathsep',\n",
       " 'pipe',\n",
       " 'popen',\n",
       " 'posix_spawn',\n",
       " 'posix_spawnp',\n",
       " 'pread',\n",
       " 'preadv',\n",
       " 'putenv',\n",
       " 'pwrite',\n",
       " 'pwritev',\n",
       " 'read',\n",
       " 'readlink',\n",
       " 'readv',\n",
       " 'register_at_fork',\n",
       " 'remove',\n",
       " 'removedirs',\n",
       " 'rename',\n",
       " 'renames',\n",
       " 'replace',\n",
       " 'rmdir',\n",
       " 'scandir',\n",
       " 'sched_get_priority_max',\n",
       " 'sched_get_priority_min',\n",
       " 'sched_yield',\n",
       " 'sendfile',\n",
       " 'sep',\n",
       " 'set_blocking',\n",
       " 'set_inheritable',\n",
       " 'setegid',\n",
       " 'seteuid',\n",
       " 'setgid',\n",
       " 'setgroups',\n",
       " 'setpgid',\n",
       " 'setpgrp',\n",
       " 'setpriority',\n",
       " 'setregid',\n",
       " 'setreuid',\n",
       " 'setsid',\n",
       " 'setuid',\n",
       " 'spawnl',\n",
       " 'spawnle',\n",
       " 'spawnlp',\n",
       " 'spawnlpe',\n",
       " 'spawnv',\n",
       " 'spawnve',\n",
       " 'spawnvp',\n",
       " 'spawnvpe',\n",
       " 'st',\n",
       " 'stat',\n",
       " 'stat_result',\n",
       " 'statvfs',\n",
       " 'statvfs_result',\n",
       " 'strerror',\n",
       " 'supports_bytes_environ',\n",
       " 'supports_dir_fd',\n",
       " 'supports_effective_ids',\n",
       " 'supports_fd',\n",
       " 'supports_follow_symlinks',\n",
       " 'symlink',\n",
       " 'sync',\n",
       " 'sys',\n",
       " 'sysconf',\n",
       " 'sysconf_names',\n",
       " 'system',\n",
       " 'tcgetpgrp',\n",
       " 'tcsetpgrp',\n",
       " 'terminal_size',\n",
       " 'times',\n",
       " 'times_result',\n",
       " 'truncate',\n",
       " 'ttyname',\n",
       " 'umask',\n",
       " 'uname',\n",
       " 'uname_result',\n",
       " 'unlink',\n",
       " 'unsetenv',\n",
       " 'urandom',\n",
       " 'utime',\n",
       " 'wait',\n",
       " 'wait3',\n",
       " 'wait4',\n",
       " 'waitpid',\n",
       " 'waitstatus_to_exitcode',\n",
       " 'walk',\n",
       " 'write',\n",
       " 'writev']"
      ]
     },
     "execution_count": 92,
     "metadata": {},
     "output_type": "execute_result"
    }
   ],
   "source": [
    "dir(os)"
   ]
  },
  {
   "cell_type": "code",
   "execution_count": 96,
   "id": "01d7ce0b",
   "metadata": {},
   "outputs": [
    {
     "data": {
      "text/plain": [
       "['.eclipse',\n",
       " '.config',\n",
       " 'Music',\n",
       " '.yarn',\n",
       " '.expo',\n",
       " '.docker',\n",
       " '.qt',\n",
       " '.node-gyp',\n",
       " '.anyconnect',\n",
       " 'Regular_Expression.ipynb',\n",
       " '.DS_Store',\n",
       " '.gnupg',\n",
       " '.yarnrc',\n",
       " '.CFUserTextEncoding',\n",
       " '.stCommitMsg',\n",
       " '.hgignore_global',\n",
       " '.bashrc',\n",
       " '.vnc',\n",
       " '.zshrc.pre-oh-my-zsh',\n",
       " '.zshrc',\n",
       " '.vcpkg',\n",
       " '.local',\n",
       " 'Projects',\n",
       " 'Pictures',\n",
       " '.zprofile',\n",
       " 'Postman',\n",
       " 'Variables and Data Types Notes.ipynb',\n",
       " 'AWSCLIV2.pkg',\n",
       " '.zsh_history',\n",
       " '.ipython',\n",
       " '.rvm',\n",
       " 'Desktop',\n",
       " 'Library',\n",
       " '.matplotlib',\n",
       " '.mkshrc',\n",
       " '.flipper',\n",
       " '.erlang.cookie',\n",
       " '.zcompdump-Naveen’s MacBook Air-5.8',\n",
       " 'vcpkg',\n",
       " '.near-credentials',\n",
       " '.cargo',\n",
       " '.android',\n",
       " '.cocoapods',\n",
       " '.gitignore_global',\n",
       " '.p10k.zsh',\n",
       " 'Sites',\n",
       " 'Videos',\n",
       " 'Public',\n",
       " '.near-config',\n",
       " '.cisco',\n",
       " '.ssh',\n",
       " 'Movies',\n",
       " 'Applications',\n",
       " '.profile',\n",
       " '.gradle',\n",
       " 'File Handling and Pattern Matching.ipynb',\n",
       " 'Loop & Function.ipynb',\n",
       " 'DataTypes in Detail.ipynb',\n",
       " '.Trash',\n",
       " '.react-native-cli',\n",
       " '.gitflow_export',\n",
       " '.ipynb_checkpoints',\n",
       " '.jupyter',\n",
       " '.npm',\n",
       " 'Documents',\n",
       " '.anydesk',\n",
       " '.pyenv',\n",
       " '.babel.json',\n",
       " '.vscode',\n",
       " '.bash_profile',\n",
       " '.gem',\n",
       " '.swiftpm',\n",
       " '.nx',\n",
       " '.oh-my-zsh',\n",
       " 'Downloads',\n",
       " '.python_history',\n",
       " '.cache',\n",
       " '.aws',\n",
       " '.gitconfig',\n",
       " '.mume',\n",
       " '.putty',\n",
       " '.bash_history',\n",
       " '.viminfo',\n",
       " '.zsh_sessions',\n",
       " '.zlogin',\n",
       " 'Whatsbulk_2_0_2',\n",
       " '.composer']"
      ]
     },
     "execution_count": 96,
     "metadata": {},
     "output_type": "execute_result"
    }
   ],
   "source": [
    "os.getcwd()\n",
    "os.listdir()"
   ]
  },
  {
   "cell_type": "code",
   "execution_count": 97,
   "id": "a4dfa7fb",
   "metadata": {},
   "outputs": [
    {
     "name": "stdout",
     "output_type": "stream",
     "text": [
      "Music\n",
      "Regular_Expression.ipynb\n",
      "Projects\n",
      "Pictures\n",
      "Postman\n",
      "Variables and Data Types Notes.ipynb\n",
      "AWSCLIV2.pkg\n",
      "Desktop\n",
      "Library\n",
      "vcpkg\n",
      "Sites\n",
      "Videos\n",
      "Public\n",
      "Movies\n",
      "Applications\n",
      "File Handling and Pattern Matching.ipynb\n",
      "Loop & Function.ipynb\n",
      "DataTypes in Detail.ipynb\n",
      "Documents\n",
      "Downloads\n",
      "Whatsbulk_2_0_2\n"
     ]
    }
   ],
   "source": [
    "for i in os.listdir():\n",
    "    if i.startswith(\".\") == False:\n",
    "        print(i)"
   ]
  },
  {
   "cell_type": "code",
   "execution_count": null,
   "id": "b0c0a1d9",
   "metadata": {},
   "outputs": [],
   "source": []
  },
  {
   "cell_type": "code",
   "execution_count": 98,
   "id": "72d01733",
   "metadata": {},
   "outputs": [],
   "source": [
    "os.mkdir(\"new_folder\")"
   ]
  },
  {
   "cell_type": "code",
   "execution_count": 100,
   "id": "81c625ec",
   "metadata": {},
   "outputs": [],
   "source": [
    "file = open(\"new_folder/newfile.txt\", \"w\")\n",
    "file.close()"
   ]
  },
  {
   "cell_type": "code",
   "execution_count": 101,
   "id": "fcb209cb",
   "metadata": {},
   "outputs": [],
   "source": [
    "with open(\"new_folder/newfile2.txt\", \"w\") as fh:\n",
    "    fh.write(\"Hello world\")"
   ]
  },
  {
   "cell_type": "code",
   "execution_count": 102,
   "id": "974aa60e",
   "metadata": {},
   "outputs": [],
   "source": [
    "os.rename(\"new_folder/newfile2.txt\", \"new_folder/newfile3.txt\")"
   ]
  },
  {
   "cell_type": "code",
   "execution_count": 105,
   "id": "59107392",
   "metadata": {},
   "outputs": [],
   "source": [
    "os.rmdir(\"new_folder/\")"
   ]
  },
  {
   "cell_type": "code",
   "execution_count": null,
   "id": "ac4abe5d",
   "metadata": {},
   "outputs": [],
   "source": []
  },
  {
   "cell_type": "code",
   "execution_count": null,
   "id": "71e183cf",
   "metadata": {},
   "outputs": [],
   "source": []
  },
  {
   "cell_type": "markdown",
   "id": "1ae04143",
   "metadata": {},
   "source": [
    "***Q: create a file with your descriptive profile information (it can be dummy data) and write regular expression to extract data with pattern from that file ie: Name, phone number, email address or other patterns that you can match***"
   ]
  },
  {
   "cell_type": "code",
   "execution_count": 132,
   "id": "899203f4",
   "metadata": {},
   "outputs": [],
   "source": [
    "import re\n",
    "import os"
   ]
  },
  {
   "cell_type": "code",
   "execution_count": 133,
   "id": "bdfd6c06",
   "metadata": {},
   "outputs": [
    {
     "data": {
      "text/plain": [
       "['.ipynb_checkpoints',\n",
       " '0f87efa1bd451cc14c37bbb60646b74f.webp',\n",
       " '1655361380_login.zip',\n",
       " '1656146188_Kajal_task3sql.zip',\n",
       " '1920x1200-3059045-apple_computer_desk_devices_electronics_imac_keyboard_monitors_mouse_screen_screens_technology_work-space_workplace_workspace.jpg',\n",
       " '1920x1200-5238376-desk-top-desk-workspace-office-workplace-desk-lamp-tablet-mouse-pad-mouse-desktop-computer-imac-graphictablet-designer-wacom-table-apple-workoffice-work-clock-free-images.jpg',\n",
       " '1920x1200-5258301-computer-desk-keyboard-apple-imac-mac-mouse-ipad-technology-workspace-white-wood-screen-design-apple-imac-calendar-work-space-work-tech-free-images.jpg',\n",
       " '2 - RPA Training-20211203_111241-Meeting Recording.mp4',\n",
       " '3 - RPA Trinee Training Link-20211207_123100-Meeting Recording.mp4',\n",
       " '4 - RPA Trinee  Training-20211208_120047-Meeting Recording.mp4',\n",
       " '62ac5ffeb7e01.jpg',\n",
       " '62ac602436f6d.jpg',\n",
       " 'Anaconda3-2022.05-Windows-x86_64.exe',\n",
       " 'blue-linear-gradient-purple-1920x1080-c2-00bfff-ba55d3-a-135-f-14.png',\n",
       " 'certification-IA-Training-kajal.rituraj (1).pdf',\n",
       " 'challenge.xlsx',\n",
       " 'desktop.ini',\n",
       " 'doc-outlook-find-port-number-3.png',\n",
       " 'faizur-rehman-pHPzdEHN6Os-unsplash.jpg',\n",
       " 'Firefox Installer.exe',\n",
       " 'IMG_20220610_175625_379.jpg',\n",
       " 'Internship Offer Letter_Kajal Rituraj.pdf',\n",
       " 'Kajal_RiturajFile Handling and Pattern Matching.ipynb',\n",
       " 'log',\n",
       " 'login.png',\n",
       " 'Loop & Function.ipynb',\n",
       " 'MicrosoftTeams-image (2).png',\n",
       " 'python-3.10.5-amd64.exe',\n",
       " 'ReExpression',\n",
       " 'res.jpg',\n",
       " 'signup.jpg',\n",
       " 'SQL2019-SSEI-Dev.exe',\n",
       " 'tri.jpg',\n",
       " 'tribute.webp',\n",
       " 'tribute1.jpg',\n",
       " 'undraw_login_re_4vu2(1).svg',\n",
       " 'undraw_Login_re_4vu2.png',\n",
       " 'undraw_login_re_4vu2.svg',\n",
       " 'undraw_winter_designer_a-2-m7.svg',\n",
       " 'VSCodeUserSetup-x64-1.68.0.exe']"
      ]
     },
     "execution_count": 133,
     "metadata": {},
     "output_type": "execute_result"
    }
   ],
   "source": [
    "os.getcwd()\n",
    "os.listdir()"
   ]
  },
  {
   "cell_type": "code",
   "execution_count": 134,
   "id": "7ac11807",
   "metadata": {},
   "outputs": [
    {
     "name": "stdout",
     "output_type": "stream",
     "text": [
      "0f87efa1bd451cc14c37bbb60646b74f.webp\n",
      "1655361380_login.zip\n",
      "1656146188_Kajal_task3sql.zip\n",
      "1920x1200-3059045-apple_computer_desk_devices_electronics_imac_keyboard_monitors_mouse_screen_screens_technology_work-space_workplace_workspace.jpg\n",
      "1920x1200-5238376-desk-top-desk-workspace-office-workplace-desk-lamp-tablet-mouse-pad-mouse-desktop-computer-imac-graphictablet-designer-wacom-table-apple-workoffice-work-clock-free-images.jpg\n",
      "1920x1200-5258301-computer-desk-keyboard-apple-imac-mac-mouse-ipad-technology-workspace-white-wood-screen-design-apple-imac-calendar-work-space-work-tech-free-images.jpg\n",
      "2 - RPA Training-20211203_111241-Meeting Recording.mp4\n",
      "3 - RPA Trinee Training Link-20211207_123100-Meeting Recording.mp4\n",
      "4 - RPA Trinee  Training-20211208_120047-Meeting Recording.mp4\n",
      "62ac5ffeb7e01.jpg\n",
      "62ac602436f6d.jpg\n",
      "Anaconda3-2022.05-Windows-x86_64.exe\n",
      "blue-linear-gradient-purple-1920x1080-c2-00bfff-ba55d3-a-135-f-14.png\n",
      "certification-IA-Training-kajal.rituraj (1).pdf\n",
      "challenge.xlsx\n",
      "desktop.ini\n",
      "doc-outlook-find-port-number-3.png\n",
      "faizur-rehman-pHPzdEHN6Os-unsplash.jpg\n",
      "Firefox Installer.exe\n",
      "IMG_20220610_175625_379.jpg\n",
      "Internship Offer Letter_Kajal Rituraj.pdf\n",
      "Kajal_RiturajFile Handling and Pattern Matching.ipynb\n",
      "log\n",
      "login.png\n",
      "Loop & Function.ipynb\n",
      "MicrosoftTeams-image (2).png\n",
      "python-3.10.5-amd64.exe\n",
      "ReExpression\n",
      "res.jpg\n",
      "signup.jpg\n",
      "SQL2019-SSEI-Dev.exe\n",
      "tri.jpg\n",
      "tribute.webp\n",
      "tribute1.jpg\n",
      "undraw_login_re_4vu2(1).svg\n",
      "undraw_Login_re_4vu2.png\n",
      "undraw_login_re_4vu2.svg\n",
      "undraw_winter_designer_a-2-m7.svg\n",
      "VSCodeUserSetup-x64-1.68.0.exe\n"
     ]
    }
   ],
   "source": [
    "for i in os.listdir():\n",
    "    if i.startswith(\".\") == False:\n",
    "        print(i)"
   ]
  },
  {
   "cell_type": "code",
   "execution_count": 136,
   "id": "1e1aca12",
   "metadata": {},
   "outputs": [],
   "source": [
    "os.mkdir(\"D:/ReExpression1\")"
   ]
  },
  {
   "cell_type": "code",
   "execution_count": 88,
   "id": "cbfd450b",
   "metadata": {},
   "outputs": [],
   "source": [
    "with open(\"D:/ReExpression/Refile2.txt\", \"w\") as fh:\n",
    "    fh.write(\"Hello,there I am Kajal Rituraj from Koderma,Currently I am working as a RPA developer in AG Tech.I was trying to find new way for capturing the moments... My contact Details-- 6345678927 My Email Address Kajalrituraj237@gmail.com \")"
   ]
  },
  {
   "cell_type": "code",
   "execution_count": 93,
   "id": "574d7172",
   "metadata": {},
   "outputs": [
    {
     "name": "stdout",
     "output_type": "stream",
     "text": [
      "Hello,there I am Kajal Rituraj from Koderma,Currently I am working as a RPA developer in AG Tech.I was trying to find new way for capturing the moments... My contact Details-- 6345678927 My Email Address Kajalrituraj237@gmail.com \n"
     ]
    }
   ],
   "source": [
    "#Read Any File by using read operation\n",
    "f = open(\"D:\\ReExpression\\Refile2.txt\", \"r\")\n",
    "print(f.read())"
   ]
  },
  {
   "cell_type": "code",
   "execution_count": 99,
   "id": "4d0df77a",
   "metadata": {},
   "outputs": [],
   "source": [
    "# text=\"\"\"Hello,there I am Kajal Rituraj from Koderma,Currently I am working as a RPA developer in AG Tech.I was trying to find new way for capturing the moments... My contact Details-- 6345678927 My Email Address Kajalrituraj237@gmail.com\"\"\""
   ]
  },
  {
   "cell_type": "code",
   "execution_count": 100,
   "id": "7c9788b4",
   "metadata": {},
   "outputs": [],
   "source": [
    "Refile2=\"Hello,there I am Kajal Rituraj from Koderma,Currently I am working as a RPA developer in AG Tech.I was trying to find new way for capturing the moments... My contact Details-- 6345678927 My Email Address Kajalrituraj237@gmail.com \""
   ]
  },
  {
   "cell_type": "code",
   "execution_count": 137,
   "id": "92494cc7",
   "metadata": {},
   "outputs": [
    {
     "data": {
      "text/plain": [
       "['I', 'I', 'I']"
      ]
     },
     "execution_count": 137,
     "metadata": {},
     "output_type": "execute_result"
    }
   ],
   "source": [
    "re.findall(r\"I\",Refile2)"
   ]
  },
  {
   "cell_type": "code",
   "execution_count": 138,
   "id": "66d196e8",
   "metadata": {},
   "outputs": [],
   "source": [
    "email_pattern = r\"[a-zA-Z0-9.-_]+@[a-zA-Z0-9.-_]+\\.[a-zA-Z0-9.-_]+\""
   ]
  },
  {
   "cell_type": "code",
   "execution_count": 139,
   "id": "d07dd4e3",
   "metadata": {},
   "outputs": [
    {
     "data": {
      "text/plain": [
       "True"
      ]
     },
     "execution_count": 139,
     "metadata": {},
     "output_type": "execute_result"
    }
   ],
   "source": [
    "bool(re.search(email_pattern, Refile2))"
   ]
  },
  {
   "cell_type": "code",
   "execution_count": 140,
   "id": "70423f12",
   "metadata": {},
   "outputs": [],
   "source": [
    "email_pattern=re.compile(r'(\\b[\\w.]+@+[\\w.]+.+[\\w.]\\b)')"
   ]
  },
  {
   "cell_type": "code",
   "execution_count": 141,
   "id": "81a7e4ad",
   "metadata": {},
   "outputs": [],
   "source": [
    "#To identify Mobile no. \n",
    "Mobile_no = re.compile(\"\\d{10}\")"
   ]
  },
  {
   "cell_type": "code",
   "execution_count": 142,
   "id": "22f312c6",
   "metadata": {},
   "outputs": [
    {
     "data": {
      "text/plain": [
       "True"
      ]
     },
     "execution_count": 142,
     "metadata": {},
     "output_type": "execute_result"
    }
   ],
   "source": [
    "bool(re.search(Mobile_no, Refile2))"
   ]
  },
  {
   "cell_type": "code",
   "execution_count": 143,
   "id": "ac0b8ed5",
   "metadata": {},
   "outputs": [
    {
     "name": "stdout",
     "output_type": "stream",
     "text": [
      "The first white-space character is located in position: 11\n"
     ]
    }
   ],
   "source": [
    "#Returns a match where the string contains a white space character\n",
    "x = re.search(\"\\s\", Refile2)\n",
    "print(\"The first white-space character is located in position:\", x.start())"
   ]
  },
  {
   "cell_type": "code",
   "execution_count": 144,
   "id": "8309f8af",
   "metadata": {},
   "outputs": [
    {
     "name": "stdout",
     "output_type": "stream",
     "text": [
      "['Hello,there', 'I', 'am', 'Kajal', 'Rituraj', 'from Koderma,Currently I am working as a RPA developer in AG Tech.I was trying to find new way for capturing the moments... My contact Details-- 6345678927 My Email Address Kajalrituraj237@gmail.com ']\n"
     ]
    }
   ],
   "source": [
    "#Returns a list where the string has been split at each match\n",
    "x = re.split(\"\\s\", Refile2,5)\n",
    "print(x)"
   ]
  },
  {
   "cell_type": "code",
   "execution_count": 145,
   "id": "a189bc29",
   "metadata": {},
   "outputs": [
    {
     "name": "stdout",
     "output_type": "stream",
     "text": [
      "Hello,there_I_am_Kajal_Rituraj_from_Koderma,Currently_I_am_working_as_a_RPA_developer_in_AG_Tech.I_was_trying_to_find_new_way_for_capturing_the_moments..._My_contact_Details--_6345678927_My_Email_Address_Kajalrituraj237@gmail.com_\n"
     ]
    }
   ],
   "source": [
    "#The sub() function replaces the matches with the text of your choice:\n",
    "x = re.sub(\"\\s\", \"_\", Refile2)\n",
    "print(x)\n"
   ]
  },
  {
   "cell_type": "code",
   "execution_count": 146,
   "id": "e210e92c",
   "metadata": {},
   "outputs": [
    {
     "name": "stdout",
     "output_type": "stream",
     "text": [
      "['a', 'a', 'a', 'a', 'd', 'a', 'a', 'a', 'a', 'd', 'c', 'a', 'd', 'a', 'c', 'a', 'c', 'a', 'c', 'a', 'a', 'd', 'd', 'a', 'a', 'a', 'a', 'c']\n"
     ]
    }
   ],
   "source": [
    "x = re.findall(\"[a-d]\", Refile2)\n",
    "print(x)\n"
   ]
  },
  {
   "cell_type": "code",
   "execution_count": 147,
   "id": "a988333e",
   "metadata": {},
   "outputs": [
    {
     "name": "stdout",
     "output_type": "stream",
     "text": [
      "['Kajal', 'Kajal']\n"
     ]
    }
   ],
   "source": [
    "x = re.findall(\"K...l\", Refile2)\n",
    "print(x)"
   ]
  },
  {
   "cell_type": "code",
   "execution_count": 148,
   "id": "ea135c50",
   "metadata": {},
   "outputs": [
    {
     "name": "stdout",
     "output_type": "stream",
     "text": [
      "<re.Match object; span=(18, 20), match='aj'>\n"
     ]
    }
   ],
   "source": [
    "#The search() function returns a Match object:\n",
    "x = re.search(\"aj\", Refile2)\n",
    "print(x)\n"
   ]
  },
  {
   "cell_type": "code",
   "execution_count": 149,
   "id": "df0b8bb9",
   "metadata": {},
   "outputs": [
    {
     "name": "stdout",
     "output_type": "stream",
     "text": [
      "Kajal\n"
     ]
    }
   ],
   "source": [
    "#regular expression looks for any words that starts with an upper case \"K\":\n",
    "x = re.search(r\"\\bK\\w+\", Refile2)\n",
    "print(x.group())\n"
   ]
  },
  {
   "cell_type": "markdown",
   "id": "f1f63cc6",
   "metadata": {},
   "source": [
    "***Q: Create a file manager function that will perform different actions like creating a file/folder renaming a file/folder etc***"
   ]
  },
  {
   "cell_type": "code",
   "execution_count": 150,
   "id": "06815989",
   "metadata": {},
   "outputs": [
    {
     "name": "stdout",
     "output_type": "stream",
     "text": [
      " --------------FILE MANAGER-------------------\n",
      "1.Make a folder\n",
      "2.Remove a folder\n",
      "3.Rename a folder\n",
      "4.Make a file\n",
      "5.Remove a file\n",
      "6.Rename a file\n",
      "Enter the number which of operation you want to perform:: 4\n",
      "1.text file\n",
      "2.csv file\n",
      "3.Doc file\n",
      "4.xlsx file\n",
      "Enter the type of file u want to create:: 2\n",
      "Enter the name of file to be created:: newc\n",
      "newc Created Successfully!!\n"
     ]
    }
   ],
   "source": [
    "print(\" --------------FILE MANAGER-------------------\")\n",
    "print(\"1.Make a folder\")\n",
    "print(\"2.Remove a folder\")\n",
    "print(\"3.Rename a folder\")\n",
    "print(\"4.Make a file\")\n",
    "print(\"5.Remove a file\")\n",
    "print(\"6.Rename a file\")\n",
    "\n",
    "Operation_perform=int(input(\"Enter the number which of operation you want to perform:: \"))\n",
    "\n",
    "if Operation_perform==1:\n",
    "    dir_name = input(\"Enter the folder name want to create:: \")\n",
    "    if os.path.exists(\"D:/\" + dir_name):\n",
    "        print(dir_name + \" Folder  exists!!\")\n",
    "    else:\n",
    "        os.mkdir(\"D:/\"+dir_name)\n",
    "        print( dir_name + \" Created successfully...\")\n",
    "    \n",
    "elif Operation_perform == 2:\n",
    "    dir_name = input(\"Enter the folder name want to remove:: \")\n",
    "    \n",
    "    if os.path.exists(\"D:/\" + dir_name):\n",
    "        os.rmdir(\"D:/\"+dir_name)\n",
    "        print(\"Folder removed successfully...\")\n",
    "    else:\n",
    "        print(dir_name + \"folder doesnt exist.\")\n",
    "    \n",
    "    \n",
    "elif Operation_perform == 3:\n",
    "    dir_old = input(\"enter the name want to rename:: \")\n",
    "    \n",
    "    if os.path.exists(\"D:/\" + dir_old):\n",
    "        dir_new = input(\"enter the new name\")\n",
    "        os.rename(\"D:/\" + dir_old, \"D:/\" + dir_new)\n",
    "        print(\"File\" +dir_old+  \" renamed as \"  +dir_new+\" successfully...\")\n",
    "    else:\n",
    "        print(dir_old + \" named folder doesn't exist!!\")\n",
    "        \n",
    "elif Operation_perform == 4:\n",
    "    \n",
    "    print(\"1.text file\")\n",
    "    print(\"2.csv file\")\n",
    "    print(\"3.Doc file\")\n",
    "    print(\"4.xlsx file\")\n",
    "\n",
    "    choosefile_type=int(input(\"Enter the type of file u want to create:: \"))\n",
    "\n",
    "    file_name=input(\"Enter the name of file to be created:: \")\n",
    "\n",
    "    if choosefile_type == 1:\n",
    "        file = open(\"D:/\"+ file_name + \".txt\", \"w\")\n",
    "        file.close()\n",
    "        print(file_name + \" Created Successfully!!\")\n",
    "    \n",
    "    elif choosefile_type == 2:\n",
    "        file = open(\"D:/\"+ file_name + \".csv\", \"w\")\n",
    "        file.close()\n",
    "        print(file_name + \" Created Successfully!!\")\n",
    "    \n",
    "    elif choosefile_type == 3:\n",
    "        file = open(\"D:/\"+ file_name + \".doc\", \"w\")\n",
    "        file.close()\n",
    "        print(file_name + \" Created Successfully!!\")\n",
    "    \n",
    "    elif choosefile_type == 4:\n",
    "        file = open(\"D:/\"+ file_name + \".xlsx\", \"w\")\n",
    "        file.close()\n",
    "        print(file_name + \" Created Successfully!!\")\n",
    "    else:\n",
    "        print(\"\\nInvalid Selection..!!\\n\")\n",
    "        \n",
    "elif Operation_perform == 5:\n",
    "    file_name = input(\"Enter the file name want to remove::\")\n",
    "    if os.path.exists(\"D:/\" + file_name+ \".txt\"):\n",
    "        os.remove(\"D:/\" + file_name +\".txt\")\n",
    "        print(file_name + \" named file removed successfully...\")\n",
    "    else:\n",
    "        print(file_name + \" file doesnt exist.\")\n",
    "        \n",
    "elif Operation_perform == 6:\n",
    "    file_old = input(\"Enter the File name want to rename:: \")\n",
    "    \n",
    "    if os.path.exists(\"D:/\" + file_old +\".txt\"):\n",
    "        file_new = input(\"Enter the new name\")\n",
    "        os.rename(\"D:/\" + file_old +\".txt\", \"D:/\" + file_new +\".txt\")\n",
    "        print(\"File\" + file_old + \" renamed as\" + dir_new + \" successfully...\")\n",
    "    else:\n",
    "        print(dir_old + \" named file doesn't exist!!\")\n",
    "    \n",
    "else:\n",
    "    print(\"Invalid Operation...!!\")\n",
    "    \n",
    "        \n",
    "\n",
    "    \n"
   ]
  },
  {
   "cell_type": "markdown",
   "id": "915ad85c",
   "metadata": {},
   "source": [
    "#### "
   ]
  },
  {
   "cell_type": "code",
   "execution_count": null,
   "id": "536b63c1",
   "metadata": {},
   "outputs": [],
   "source": []
  }
 ],
 "metadata": {
  "kernelspec": {
   "display_name": "Python 3 (ipykernel)",
   "language": "python",
   "name": "python3"
  },
  "language_info": {
   "codemirror_mode": {
    "name": "ipython",
    "version": 3
   },
   "file_extension": ".py",
   "mimetype": "text/x-python",
   "name": "python",
   "nbconvert_exporter": "python",
   "pygments_lexer": "ipython3",
   "version": "3.9.12"
  }
 },
 "nbformat": 4,
 "nbformat_minor": 5
}
